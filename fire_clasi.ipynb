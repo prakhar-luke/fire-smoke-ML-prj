{
  "nbformat": 4,
  "nbformat_minor": 0,
  "metadata": {
    "colab": {
      "provenance": [],
      "gpuType": "T4"
    },
    "kernelspec": {
      "name": "python3",
      "display_name": "Python 3"
    },
    "language_info": {
      "name": "python"
    },
    "accelerator": "GPU"
  },
  "cells": [
    {
      "cell_type": "code",
      "source": [
        "from google.colab import drive\n",
        "drive.mount('/content/drive')"
      ],
      "metadata": {
        "colab": {
          "base_uri": "https://localhost:8080/"
        },
        "id": "lBZ3MJ43EyM4",
        "outputId": "79464260-e19a-4185-8e33-315fbedafadb"
      },
      "execution_count": 1,
      "outputs": [
        {
          "output_type": "stream",
          "name": "stdout",
          "text": [
            "Mounted at /content/drive\n"
          ]
        }
      ]
    },
    {
      "cell_type": "code",
      "source": [
        "!pip install ultralytics"
      ],
      "metadata": {
        "id": "n9TUYr41FGbO"
      },
      "execution_count": null,
      "outputs": []
    },
    {
      "cell_type": "code",
      "execution_count": 33,
      "metadata": {
        "id": "xhWciqgS7mw2"
      },
      "outputs": [],
      "source": [
        "import os\n",
        "import numpy as np\n",
        "from ultralytics import YOLO"
      ]
    },
    {
      "cell_type": "code",
      "source": [
        "model = YOLO('yolov8n-cls.pt')"
      ],
      "metadata": {
        "id": "nJbyTZUF8B0z",
        "colab": {
          "base_uri": "https://localhost:8080/"
        },
        "outputId": "3616cb2c-7f3e-47b9-d48f-1cd8d2afb645"
      },
      "execution_count": 4,
      "outputs": [
        {
          "output_type": "stream",
          "name": "stderr",
          "text": [
            "Downloading https://github.com/ultralytics/assets/releases/download/v0.0.0/yolov8n-cls.pt to 'yolov8n-cls.pt'...\n",
            "100%|██████████| 5.28M/5.28M [00:00<00:00, 17.1MB/s]\n"
          ]
        }
      ]
    },
    {
      "cell_type": "code",
      "source": [
        "results = model.train(data='/content/drive/MyDrive/fire_det/classif/Dataset', epochs=30, imgsz=64)"
      ],
      "metadata": {
        "id": "VAmCrO9c8Cjs",
        "colab": {
          "base_uri": "https://localhost:8080/"
        },
        "outputId": "05961fcc-66df-4ddb-d8a5-6e09a5001660"
      },
      "execution_count": 5,
      "outputs": [
        {
          "output_type": "stream",
          "name": "stderr",
          "text": [
            "Ultralytics YOLOv8.0.180 🚀 Python-3.10.12 torch-2.0.1+cu118 CUDA:0 (Tesla T4, 15102MiB)\n",
            "\u001b[34m\u001b[1mengine/trainer: \u001b[0mtask=classify, mode=train, model=yolov8n-cls.pt, data=/content/drive/MyDrive/fire_det/classif/Dataset, epochs=30, patience=50, batch=16, imgsz=64, save=True, save_period=-1, cache=False, device=None, workers=8, project=None, name=None, exist_ok=False, pretrained=True, optimizer=auto, verbose=True, seed=0, deterministic=True, single_cls=False, rect=False, cos_lr=False, close_mosaic=10, resume=False, amp=True, fraction=1.0, profile=False, freeze=None, overlap_mask=True, mask_ratio=4, dropout=0.0, val=True, split=val, save_json=False, save_hybrid=False, conf=None, iou=0.7, max_det=300, half=False, dnn=False, plots=True, source=None, show=False, save_txt=False, save_conf=False, save_crop=False, show_labels=True, show_conf=True, vid_stride=1, stream_buffer=False, line_width=None, visualize=False, augment=False, agnostic_nms=False, classes=None, retina_masks=False, boxes=True, format=torchscript, keras=False, optimize=False, int8=False, dynamic=False, simplify=False, opset=None, workspace=4, nms=False, lr0=0.01, lrf=0.01, momentum=0.937, weight_decay=0.0005, warmup_epochs=3.0, warmup_momentum=0.8, warmup_bias_lr=0.1, box=7.5, cls=0.5, dfl=1.5, pose=12.0, kobj=1.0, label_smoothing=0.0, nbs=64, hsv_h=0.015, hsv_s=0.7, hsv_v=0.4, degrees=0.0, translate=0.1, scale=0.5, shear=0.0, perspective=0.0, flipud=0.0, fliplr=0.5, mosaic=1.0, mixup=0.0, copy_paste=0.0, cfg=None, tracker=botsort.yaml, save_dir=runs/classify/train\n",
            "\u001b[34m\u001b[1mtrain:\u001b[0m /content/drive/MyDrive/fire_det/classif/Dataset/train... found 1520 images in 2 classes ✅ \n",
            "\u001b[34m\u001b[1mval:\u001b[0m /content/drive/MyDrive/fire_det/classif/Dataset/val... found 380 images in 2 classes ✅ \n",
            "\u001b[34m\u001b[1mtest:\u001b[0m None...\n",
            "Overriding model.yaml nc=1000 with nc=2\n",
            "\n",
            "                   from  n    params  module                                       arguments                     \n",
            "  0                  -1  1       464  ultralytics.nn.modules.conv.Conv             [3, 16, 3, 2]                 \n",
            "  1                  -1  1      4672  ultralytics.nn.modules.conv.Conv             [16, 32, 3, 2]                \n",
            "  2                  -1  1      7360  ultralytics.nn.modules.block.C2f             [32, 32, 1, True]             \n",
            "  3                  -1  1     18560  ultralytics.nn.modules.conv.Conv             [32, 64, 3, 2]                \n",
            "  4                  -1  2     49664  ultralytics.nn.modules.block.C2f             [64, 64, 2, True]             \n",
            "  5                  -1  1     73984  ultralytics.nn.modules.conv.Conv             [64, 128, 3, 2]               \n",
            "  6                  -1  2    197632  ultralytics.nn.modules.block.C2f             [128, 128, 2, True]           \n",
            "  7                  -1  1    295424  ultralytics.nn.modules.conv.Conv             [128, 256, 3, 2]              \n",
            "  8                  -1  1    460288  ultralytics.nn.modules.block.C2f             [256, 256, 1, True]           \n",
            "  9                  -1  1    332802  ultralytics.nn.modules.head.Classify         [256, 2]                      \n",
            "YOLOv8n-cls summary: 99 layers, 1440850 parameters, 1440850 gradients\n",
            "Transferred 156/158 items from pretrained weights\n",
            "\u001b[34m\u001b[1mTensorBoard: \u001b[0mStart with 'tensorboard --logdir runs/classify/train', view at http://localhost:6006/\n",
            "\u001b[34m\u001b[1mAMP: \u001b[0mrunning Automatic Mixed Precision (AMP) checks with YOLOv8n...\n",
            "Downloading https://github.com/ultralytics/assets/releases/download/v0.0.0/yolov8n.pt to 'yolov8n.pt'...\n",
            "100%|██████████| 6.23M/6.23M [00:00<00:00, 291MB/s]\n",
            "\u001b[34m\u001b[1mAMP: \u001b[0mchecks passed ✅\n",
            "\u001b[34m\u001b[1mtrain: \u001b[0mScanning /content/drive/MyDrive/fire_det/classif/Dataset/train... 1520 images, 0 corrupt: 100%|██████████| 1520/1520 [00:00<?, ?it/s]\n",
            "\u001b[34m\u001b[1malbumentations: \u001b[0mRandomResizedCrop(p=1.0, height=64, width=64, scale=(0.5, 1.0), ratio=(0.75, 1.3333333333333333), interpolation=1), HorizontalFlip(p=0.5), ColorJitter(p=0.5, brightness=[0.6, 1.4], contrast=[0.6, 1.4], saturation=[0.30000000000000004, 1.7], hue=[-0.015, 0.015]), Normalize(p=1.0, mean=(0.0, 0.0, 0.0), std=(1.0, 1.0, 1.0), max_pixel_value=255.0), ToTensorV2(always_apply=True, p=1.0, transpose_mask=False)\n",
            "\u001b[34m\u001b[1mval: \u001b[0mScanning /content/drive/MyDrive/fire_det/classif/Dataset/val... 380 images, 0 corrupt: 100%|██████████| 380/380 [00:00<?, ?it/s]\n",
            "\u001b[34m\u001b[1moptimizer:\u001b[0m 'optimizer=auto' found, ignoring 'lr0=0.01' and 'momentum=0.937' and determining best 'optimizer', 'lr0' and 'momentum' automatically... \n",
            "\u001b[34m\u001b[1moptimizer:\u001b[0m AdamW(lr=0.000714, momentum=0.9) with parameter groups 26 weight(decay=0.0), 27 weight(decay=0.0005), 27 bias(decay=0.0)\n",
            "Image sizes 64 train, 64 val\n",
            "Using 2 dataloader workers\n",
            "Logging results to \u001b[1mruns/classify/train\u001b[0m\n",
            "Starting training for 30 epochs...\n",
            "\n",
            "      Epoch    GPU_mem       loss  Instances       Size\n",
            "       1/30     0.375G     0.2114         16         64:   1%|          | 1/95 [00:11<18:38, 11.90s/it]Downloading https://ultralytics.com/assets/Arial.ttf to '/root/.config/Ultralytics/Arial.ttf'...\n",
            "\n",
            "100%|██████████| 755k/755k [00:00<00:00, 133MB/s]\n",
            "       1/30      0.38G     0.1165         16         64: 100%|██████████| 95/95 [09:12<00:00,  5.82s/it]\n",
            "               classes   top1_acc   top5_acc: 100%|██████████| 12/12 [00:48<00:00,  4.08s/it]\n",
            "                   all      0.955          1\n",
            "\n",
            "      Epoch    GPU_mem       loss  Instances       Size\n",
            "       2/30     0.359G    0.03395         16         64: 100%|██████████| 95/95 [00:05<00:00, 16.37it/s]\n",
            "               classes   top1_acc   top5_acc: 100%|██████████| 12/12 [00:34<00:00,  2.89s/it]\n",
            "                   all      0.963          1\n",
            "\n",
            "      Epoch    GPU_mem       loss  Instances       Size\n",
            "       3/30     0.359G    0.02198         16         64: 100%|██████████| 95/95 [00:07<00:00, 12.77it/s]\n",
            "               classes   top1_acc   top5_acc: 100%|██████████| 12/12 [00:00<00:00, 14.98it/s]\n",
            "                   all      0.966          1\n",
            "\n",
            "      Epoch    GPU_mem       loss  Instances       Size\n",
            "       4/30     0.359G      0.025         16         64: 100%|██████████| 95/95 [00:05<00:00, 16.14it/s]\n",
            "               classes   top1_acc   top5_acc: 100%|██████████| 12/12 [00:00<00:00, 14.07it/s]\n",
            "                   all      0.971          1\n",
            "\n",
            "      Epoch    GPU_mem       loss  Instances       Size\n",
            "       5/30     0.359G    0.01119         16         64: 100%|██████████| 95/95 [00:07<00:00, 12.76it/s]\n",
            "               classes   top1_acc   top5_acc: 100%|██████████| 12/12 [00:00<00:00, 14.48it/s]\n",
            "                   all      0.963          1\n",
            "\n",
            "      Epoch    GPU_mem       loss  Instances       Size\n",
            "       6/30     0.359G     0.0139         16         64: 100%|██████████| 95/95 [00:06<00:00, 15.79it/s]\n",
            "               classes   top1_acc   top5_acc: 100%|██████████| 12/12 [00:00<00:00, 16.09it/s]\n",
            "                   all      0.955          1\n",
            "\n",
            "      Epoch    GPU_mem       loss  Instances       Size\n",
            "       7/30     0.359G    0.01043         16         64: 100%|██████████| 95/95 [00:07<00:00, 12.58it/s]\n",
            "               classes   top1_acc   top5_acc: 100%|██████████| 12/12 [00:00<00:00, 14.36it/s]\n",
            "                   all      0.961          1\n",
            "\n",
            "      Epoch    GPU_mem       loss  Instances       Size\n",
            "       8/30     0.359G   0.008734         16         64: 100%|██████████| 95/95 [00:06<00:00, 15.64it/s]\n",
            "               classes   top1_acc   top5_acc: 100%|██████████| 12/12 [00:00<00:00, 12.29it/s]\n",
            "                   all      0.958          1\n",
            "\n",
            "      Epoch    GPU_mem       loss  Instances       Size\n",
            "       9/30     0.359G   0.006494         16         64: 100%|██████████| 95/95 [00:07<00:00, 13.06it/s]\n",
            "               classes   top1_acc   top5_acc: 100%|██████████| 12/12 [00:00<00:00, 15.59it/s]\n",
            "                   all      0.963          1\n",
            "\n",
            "      Epoch    GPU_mem       loss  Instances       Size\n",
            "      10/30     0.359G   0.007287         16         64: 100%|██████████| 95/95 [00:05<00:00, 16.08it/s]\n",
            "               classes   top1_acc   top5_acc: 100%|██████████| 12/12 [00:01<00:00, 10.42it/s]\n",
            "                   all      0.963          1\n",
            "\n",
            "      Epoch    GPU_mem       loss  Instances       Size\n",
            "      11/30     0.359G    0.00741         16         64: 100%|██████████| 95/95 [00:06<00:00, 14.42it/s]\n",
            "               classes   top1_acc   top5_acc: 100%|██████████| 12/12 [00:00<00:00, 13.78it/s]\n",
            "                   all      0.955          1\n",
            "\n",
            "      Epoch    GPU_mem       loss  Instances       Size\n",
            "      12/30     0.359G   0.006647         16         64: 100%|██████████| 95/95 [00:06<00:00, 14.86it/s]\n",
            "               classes   top1_acc   top5_acc: 100%|██████████| 12/12 [00:01<00:00, 10.61it/s]\n",
            "                   all      0.966          1\n",
            "\n",
            "      Epoch    GPU_mem       loss  Instances       Size\n",
            "      13/30     0.359G   0.004887         16         64: 100%|██████████| 95/95 [00:06<00:00, 14.86it/s]\n",
            "               classes   top1_acc   top5_acc: 100%|██████████| 12/12 [00:00<00:00, 14.71it/s]\n",
            "                   all      0.955          1\n",
            "\n",
            "      Epoch    GPU_mem       loss  Instances       Size\n",
            "      14/30     0.359G   0.003781         16         64: 100%|██████████| 95/95 [00:06<00:00, 14.04it/s]\n",
            "               classes   top1_acc   top5_acc: 100%|██████████| 12/12 [00:01<00:00, 10.39it/s]\n",
            "                   all      0.974          1\n",
            "\n",
            "      Epoch    GPU_mem       loss  Instances       Size\n",
            "      15/30     0.359G   0.003892         16         64: 100%|██████████| 95/95 [00:06<00:00, 14.99it/s]\n",
            "               classes   top1_acc   top5_acc: 100%|██████████| 12/12 [00:00<00:00, 12.66it/s]\n",
            "                   all      0.966          1\n",
            "\n",
            "      Epoch    GPU_mem       loss  Instances       Size\n",
            "      16/30     0.359G   0.004808         16         64: 100%|██████████| 95/95 [00:07<00:00, 12.92it/s]\n",
            "               classes   top1_acc   top5_acc: 100%|██████████| 12/12 [00:01<00:00, 11.70it/s]\n",
            "                   all      0.974          1\n",
            "\n",
            "      Epoch    GPU_mem       loss  Instances       Size\n",
            "      17/30     0.359G   0.003935         16         64: 100%|██████████| 95/95 [00:06<00:00, 15.70it/s]\n",
            "               classes   top1_acc   top5_acc: 100%|██████████| 12/12 [00:00<00:00, 14.30it/s]\n",
            "                   all      0.974          1\n",
            "\n",
            "      Epoch    GPU_mem       loss  Instances       Size\n",
            "      18/30     0.359G   0.005315         16         64: 100%|██████████| 95/95 [00:07<00:00, 12.20it/s]\n",
            "               classes   top1_acc   top5_acc: 100%|██████████| 12/12 [00:00<00:00, 14.59it/s]\n",
            "                   all      0.968          1\n",
            "\n",
            "      Epoch    GPU_mem       loss  Instances       Size\n",
            "      19/30     0.359G   0.003651         16         64: 100%|██████████| 95/95 [00:06<00:00, 15.25it/s]\n",
            "               classes   top1_acc   top5_acc: 100%|██████████| 12/12 [00:00<00:00, 16.12it/s]\n",
            "                   all      0.971          1\n",
            "\n",
            "      Epoch    GPU_mem       loss  Instances       Size\n",
            "      20/30     0.359G   0.003373         16         64: 100%|██████████| 95/95 [00:07<00:00, 12.79it/s]\n",
            "               classes   top1_acc   top5_acc: 100%|██████████| 12/12 [00:00<00:00, 15.74it/s]\n",
            "                   all      0.963          1\n",
            "Closing dataloader mosaic\n",
            "\n",
            "      Epoch    GPU_mem       loss  Instances       Size\n",
            "      21/30     0.359G   0.002409         16         64: 100%|██████████| 95/95 [00:06<00:00, 15.71it/s]\n",
            "               classes   top1_acc   top5_acc: 100%|██████████| 12/12 [00:01<00:00, 10.25it/s]\n",
            "                   all      0.968          1\n",
            "\n",
            "      Epoch    GPU_mem       loss  Instances       Size\n",
            "      22/30     0.359G   0.002759         16         64: 100%|██████████| 95/95 [00:07<00:00, 13.40it/s]\n",
            "               classes   top1_acc   top5_acc: 100%|██████████| 12/12 [00:00<00:00, 15.48it/s]\n",
            "                   all      0.971          1\n",
            "\n",
            "      Epoch    GPU_mem       loss  Instances       Size\n",
            "      23/30     0.359G   0.002484         16         64: 100%|██████████| 95/95 [00:06<00:00, 14.85it/s]\n",
            "               classes   top1_acc   top5_acc: 100%|██████████| 12/12 [00:01<00:00,  9.52it/s]\n",
            "                   all      0.971          1\n",
            "\n",
            "      Epoch    GPU_mem       loss  Instances       Size\n",
            "      24/30     0.359G   0.001157         16         64: 100%|██████████| 95/95 [00:06<00:00, 14.64it/s]\n",
            "               classes   top1_acc   top5_acc: 100%|██████████| 12/12 [00:00<00:00, 14.82it/s]\n",
            "                   all      0.974          1\n",
            "\n",
            "      Epoch    GPU_mem       loss  Instances       Size\n",
            "      25/30     0.359G   0.001457         16         64: 100%|██████████| 95/95 [00:07<00:00, 13.50it/s]\n",
            "               classes   top1_acc   top5_acc: 100%|██████████| 12/12 [00:01<00:00, 10.30it/s]\n",
            "                   all      0.966          1\n",
            "\n",
            "      Epoch    GPU_mem       loss  Instances       Size\n",
            "      26/30     0.359G    0.00168         16         64: 100%|██████████| 95/95 [00:06<00:00, 15.63it/s]\n",
            "               classes   top1_acc   top5_acc: 100%|██████████| 12/12 [00:00<00:00, 15.01it/s]\n",
            "                   all      0.968          1\n",
            "\n",
            "      Epoch    GPU_mem       loss  Instances       Size\n",
            "      27/30     0.359G   0.001432         16         64: 100%|██████████| 95/95 [00:07<00:00, 13.05it/s]\n",
            "               classes   top1_acc   top5_acc: 100%|██████████| 12/12 [00:00<00:00, 12.19it/s]\n",
            "                   all      0.963          1\n",
            "\n",
            "      Epoch    GPU_mem       loss  Instances       Size\n",
            "      28/30     0.359G  0.0008656         16         64: 100%|██████████| 95/95 [00:05<00:00, 15.86it/s]\n",
            "               classes   top1_acc   top5_acc: 100%|██████████| 12/12 [00:00<00:00, 14.44it/s]\n",
            "                   all      0.976          1\n",
            "\n",
            "      Epoch    GPU_mem       loss  Instances       Size\n",
            "      29/30     0.359G   0.001624         16         64: 100%|██████████| 95/95 [00:07<00:00, 12.56it/s]\n",
            "               classes   top1_acc   top5_acc: 100%|██████████| 12/12 [00:00<00:00, 14.09it/s]\n",
            "                   all      0.966          1\n",
            "\n",
            "      Epoch    GPU_mem       loss  Instances       Size\n",
            "      30/30     0.359G  0.0006098         16         64: 100%|██████████| 95/95 [00:06<00:00, 15.78it/s]\n",
            "               classes   top1_acc   top5_acc: 100%|██████████| 12/12 [00:00<00:00, 13.19it/s]\n",
            "                   all      0.971          1\n",
            "\n",
            "30 epochs completed in 0.242 hours.\n",
            "Optimizer stripped from runs/classify/train/weights/last.pt, 3.0MB\n",
            "Optimizer stripped from runs/classify/train/weights/best.pt, 3.0MB\n",
            "\n",
            "Validating runs/classify/train/weights/best.pt...\n",
            "Ultralytics YOLOv8.0.180 🚀 Python-3.10.12 torch-2.0.1+cu118 CUDA:0 (Tesla T4, 15102MiB)\n",
            "YOLOv8n-cls summary (fused): 73 layers, 1437442 parameters, 0 gradients\n",
            "\u001b[34m\u001b[1mtrain:\u001b[0m /content/drive/MyDrive/fire_det/classif/Dataset/train... found 1520 images in 2 classes ✅ \n",
            "\u001b[34m\u001b[1mval:\u001b[0m /content/drive/MyDrive/fire_det/classif/Dataset/val... found 380 images in 2 classes ✅ \n",
            "\u001b[34m\u001b[1mtest:\u001b[0m None...\n",
            "               classes   top1_acc   top5_acc: 100%|██████████| 12/12 [00:01<00:00,  8.77it/s]\n",
            "                   all      0.976          1\n",
            "Speed: 0.2ms preprocess, 1.2ms inference, 0.0ms loss, 0.0ms postprocess per image\n",
            "Results saved to \u001b[1mruns/classify/train\u001b[0m\n",
            "Results saved to \u001b[1mruns/classify/train\u001b[0m\n"
          ]
        }
      ]
    },
    {
      "cell_type": "code",
      "source": [
        "# validation\n",
        "model = YOLO('/content/runs/classify/train/weights/best.pt')  # load a custom model\n",
        "# Validate the model\n",
        "metrics = model.val()  # no arguments needed, dataset and settings remembered\n",
        "metrics.top1   # top1 accuracy\n",
        "metrics.top5   # top5 accuracy"
      ],
      "metadata": {
        "id": "OS8hFEAy8CrJ",
        "colab": {
          "base_uri": "https://localhost:8080/"
        },
        "outputId": "fe34853c-a266-4a09-d773-834b06a87839"
      },
      "execution_count": 6,
      "outputs": [
        {
          "output_type": "stream",
          "name": "stderr",
          "text": [
            "Ultralytics YOLOv8.0.180 🚀 Python-3.10.12 torch-2.0.1+cu118 CUDA:0 (Tesla T4, 15102MiB)\n",
            "YOLOv8n-cls summary (fused): 73 layers, 1437442 parameters, 0 gradients\n",
            "\u001b[34m\u001b[1mtrain:\u001b[0m /content/drive/MyDrive/fire_det/classif/Dataset/train... found 1520 images in 2 classes ✅ \n",
            "\u001b[34m\u001b[1mval:\u001b[0m /content/drive/MyDrive/fire_det/classif/Dataset/val... found 380 images in 2 classes ✅ \n",
            "\u001b[34m\u001b[1mtest:\u001b[0m None...\n",
            "\u001b[34m\u001b[1mval: \u001b[0mScanning /content/drive/MyDrive/fire_det/classif/Dataset/val... 380 images, 0 corrupt: 100%|██████████| 380/380 [00:00<?, ?it/s]\n",
            "               classes   top1_acc   top5_acc: 100%|██████████| 24/24 [00:01<00:00, 15.17it/s]\n",
            "                   all      0.976          1\n",
            "Speed: 0.0ms preprocess, 2.0ms inference, 0.0ms loss, 0.0ms postprocess per image\n",
            "Results saved to \u001b[1mruns/classify/val\u001b[0m\n"
          ]
        },
        {
          "output_type": "execute_result",
          "data": {
            "text/plain": [
              "1.0"
            ]
          },
          "metadata": {},
          "execution_count": 6
        }
      ]
    },
    {
      "cell_type": "code",
      "source": [
        "%cd /content/runs"
      ],
      "metadata": {
        "id": "I8azzlku8CxT"
      },
      "execution_count": null,
      "outputs": []
    },
    {
      "cell_type": "code",
      "source": [
        "!zip -r classify.zip classify/"
      ],
      "metadata": {
        "id": "UMdueCGRLR41"
      },
      "execution_count": null,
      "outputs": []
    },
    {
      "cell_type": "code",
      "source": [
        "from google.colab import files\n",
        "files.download('classify.zip')"
      ],
      "metadata": {
        "colab": {
          "base_uri": "https://localhost:8080/",
          "height": 17
        },
        "id": "sif7Y889La61",
        "outputId": "f966f571-61c7-4b1d-d2f6-4bedea1cf4d9"
      },
      "execution_count": 11,
      "outputs": [
        {
          "output_type": "display_data",
          "data": {
            "text/plain": [
              "<IPython.core.display.Javascript object>"
            ],
            "application/javascript": [
              "\n",
              "    async function download(id, filename, size) {\n",
              "      if (!google.colab.kernel.accessAllowed) {\n",
              "        return;\n",
              "      }\n",
              "      const div = document.createElement('div');\n",
              "      const label = document.createElement('label');\n",
              "      label.textContent = `Downloading \"${filename}\": `;\n",
              "      div.appendChild(label);\n",
              "      const progress = document.createElement('progress');\n",
              "      progress.max = size;\n",
              "      div.appendChild(progress);\n",
              "      document.body.appendChild(div);\n",
              "\n",
              "      const buffers = [];\n",
              "      let downloaded = 0;\n",
              "\n",
              "      const channel = await google.colab.kernel.comms.open(id);\n",
              "      // Send a message to notify the kernel that we're ready.\n",
              "      channel.send({})\n",
              "\n",
              "      for await (const message of channel.messages) {\n",
              "        // Send a message to notify the kernel that we're ready.\n",
              "        channel.send({})\n",
              "        if (message.buffers) {\n",
              "          for (const buffer of message.buffers) {\n",
              "            buffers.push(buffer);\n",
              "            downloaded += buffer.byteLength;\n",
              "            progress.value = downloaded;\n",
              "          }\n",
              "        }\n",
              "      }\n",
              "      const blob = new Blob(buffers, {type: 'application/binary'});\n",
              "      const a = document.createElement('a');\n",
              "      a.href = window.URL.createObjectURL(blob);\n",
              "      a.download = filename;\n",
              "      div.appendChild(a);\n",
              "      a.click();\n",
              "      div.remove();\n",
              "    }\n",
              "  "
            ]
          },
          "metadata": {}
        },
        {
          "output_type": "display_data",
          "data": {
            "text/plain": [
              "<IPython.core.display.Javascript object>"
            ],
            "application/javascript": [
              "download(\"download_57dccf4b-761c-488c-bfb5-8c2c6111691b\", \"classify.zip\", 6234176)"
            ]
          },
          "metadata": {}
        }
      ]
    },
    {
      "cell_type": "code",
      "source": [
        "# Predict with the model\n",
        "results = model('/content/test2.jpg')  # predict on an image"
      ],
      "metadata": {
        "colab": {
          "base_uri": "https://localhost:8080/"
        },
        "id": "NxrFgUJNL5lL",
        "outputId": "ce7d8b9c-b359-4960-d81a-b27f4acca050"
      },
      "execution_count": 12,
      "outputs": [
        {
          "output_type": "stream",
          "name": "stderr",
          "text": [
            "\n",
            "image 1/1 /content/test2.jpg: 64x64 fire 1.00, nofire 0.00, 4.1ms\n",
            "Speed: 1.2ms preprocess, 4.1ms inference, 0.2ms postprocess per image at shape (1, 3, 64, 64)\n"
          ]
        }
      ]
    },
    {
      "cell_type": "code",
      "source": [
        "from PIL import Image"
      ],
      "metadata": {
        "id": "xeZjt-ZGOLnI"
      },
      "execution_count": 24,
      "outputs": []
    },
    {
      "cell_type": "code",
      "source": [
        "for r in results:\n",
        "    im_array = r.plot()  # plot a BGR numpy array of predictions\n",
        "    im = Image.fromarray(im_array[..., ::-1])  # RGB PIL image\n",
        "    im.show()  # show image\n",
        "    im.save('results.jpg')  # save image"
      ],
      "metadata": {
        "id": "2gQc6hmAM_Gn"
      },
      "execution_count": 25,
      "outputs": []
    },
    {
      "cell_type": "code",
      "source": [
        "names_dict = results[0].names\n",
        "probs = results[0].probs.data.tolist()\n",
        "print(names_dict)\n",
        "print(probs)\n",
        "print(names_dict[np.argmax(probs)])\n"
      ],
      "metadata": {
        "colab": {
          "base_uri": "https://localhost:8080/"
        },
        "id": "GN1YWb4xQBde",
        "outputId": "82922997-29b2-4536-dbd3-bb9ed2ee48b9"
      },
      "execution_count": 34,
      "outputs": [
        {
          "output_type": "stream",
          "name": "stdout",
          "text": [
            "{0: 'fire', 1: 'nofire'}\n",
            "[0.9994008541107178, 0.0005991708603687584]\n",
            "fire\n"
          ]
        }
      ]
    },
    {
      "cell_type": "code",
      "source": [],
      "metadata": {
        "id": "TUh00oMgQpTN"
      },
      "execution_count": null,
      "outputs": []
    }
  ]
}